{
 "cells": [
  {
   "cell_type": "markdown",
   "metadata": {},
   "source": [
    "Simple script to convert pairlist json generated to watchlist trading view txt file\n",
    "\n",
    "TrandingView txt file content example:\n",
    "\n",
    "BINANCE:AAVEUSDT,BINANCE:ADAUSDT,BINANCE:ALGOUSDT,BINANCE:ATOMUSDT,BINANCE:AVAXUSDT,BINANCE:AXSUSDT,BINANCE:BCHUSDT,COINEX:BCMCUSDT,BINANCE:BNBUSDT,BINANCE:BTCBUSD,BINANCEUS:BUSDUSD,BINANCE:BUSDUSDT,BINANCE:CAKEBUSD,BINANCE:CHZUSDT,BINANCE:DASHUSDT,BINANCE:DOGEUSDT,BINANCE:DOTUSDT,BINANCE:EOSUSDT,BINANCE:ETHBUSD,BINANCE:LINKUSDT,BINANCE:LTCUSDT,BINANCE:MANAUSDT,BINANCE:MATICUSDT,GATEIO:MISTUSDT,BINANCE:NEARUSDT,BINANCE:PAXGBUSD,BINANCE:SANDUSDT,BINANCE:SLPUSDT,BINANCE:SOLUSDT,BINANCE:SUSHIUSDT,BINANCE:TRXUSDT,BINANCE:UNIUSDT,BINANCEUS:USDTUSD,BINANCE:XRPUSDT,BINANCE:PROSBUSD\n",
    "\n"
   ]
  },
  {
   "cell_type": "code",
   "execution_count": 56,
   "metadata": {},
   "outputs": [],
   "source": [
    "import pickle\n"
   ]
  },
  {
   "cell_type": "code",
   "execution_count": 57,
   "metadata": {},
   "outputs": [],
   "source": [
    "jsonpairs = ['BTC/BUSD', 'ETH/BUSD', 'BNB/BUSD', 'XRP/BUSD', 'SOL/BUSD', 'DOGE/BUSD', 'CHZ/BUSD', 'TWT/BUSD', 'MATIC/BUSD', 'APT/BUSD', 'LTC/BUSD', 'PROS/BUSD', 'LINK/BUSD', 'ADA/BUSD', 'SHIB/BUSD', 'LAZIO/BUSD', 'HFT/BUSD', 'AUTO/BUSD',\n",
    "             'MIR/BUSD', 'AVAX/BUSD', 'DYDX/BUSD', 'TRX/BUSD', 'MASK/BUSD', 'BURGER/BUSD', 'PORTO/BUSD', 'SSV/BUSD', 'BAND/BUSD', 'ANC/BUSD', 'REQ/BUSD', 'ALGO/BUSD', 'ATOM/BUSD', 'PHA/BUSD', 'QNT/BUSD', 'NEAR/BUSD', 'AUD/BUSD', 'SLP/BUSD', 'AXS/BUSD']\n"
   ]
  },
  {
   "cell_type": "code",
   "execution_count": 58,
   "metadata": {},
   "outputs": [],
   "source": [
    "exchange = \"BINANCE\""
   ]
  },
  {
   "cell_type": "code",
   "execution_count": 59,
   "metadata": {},
   "outputs": [],
   "source": [
    "jsonpairs = list(map(lambda elem: exchange + \":\" + elem.replace(\"/\",\"\"), jsonpairs))\n",
    "watchlist = \",\".join(jsonpairs)\n"
   ]
  },
  {
   "cell_type": "code",
   "execution_count": 60,
   "metadata": {},
   "outputs": [
    {
     "name": "stdout",
     "output_type": "stream",
     "text": [
      "BINANCE:BTCBUSD,BINANCE:ETHBUSD,BINANCE:BNBBUSD,BINANCE:XRPBUSD,BINANCE:TWTBUSD,BINANCE:DOGEBUSD,BINANCE:SOLBUSD,BINANCE:APTBUSD,BINANCE:MATICBUSD,BINANCE:CHZBUSD,BINANCE:PHBBUSD,BINANCE:ADABUSD,BINANCE:LINKBUSD,BINANCE:MASKBUSD,BINANCE:PORTOBUSD,BINANCE:SNMBUSD,BINANCE:HFTBUSD,BINANCE:BANDBUSD,BINANCE:SHIBBUSD,BINANCE:DYDXBUSD,BINANCE:LTCBUSD,BINANCE:AVAXBUSD,BINANCE:VIBBUSD,BINANCE:ALGOBUSD,BINANCE:JASMYBUSD,BINANCE:TRXBUSD,BINANCE:GMTBUSD,BINANCE:UNIBUSD,BINANCE:ATOMBUSD,BINANCE:POLYXBUSD,BINANCE:APEBUSD,BINANCE:RUNEBUSD,BINANCE:DOTBUSD,BINANCE:NEARBUSD,BINANCE:SLPBUSD,BINANCE:AXSBUSD\n"
     ]
    }
   ],
   "source": [
    "print(watchlist)"
   ]
  },
  {
   "cell_type": "code",
   "execution_count": 61,
   "metadata": {},
   "outputs": [],
   "source": [
    "text_file = open(\"watchlist.txt\", \"w\")\n",
    "text_file.write(watchlist)\n",
    "text_file.close()\n",
    "\n"
   ]
  }
 ],
 "metadata": {
  "kernelspec": {
   "display_name": "Python 3.10.6 64-bit",
   "language": "python",
   "name": "python3"
  },
  "language_info": {
   "codemirror_mode": {
    "name": "ipython",
    "version": 3
   },
   "file_extension": ".py",
   "mimetype": "text/x-python",
   "name": "python",
   "nbconvert_exporter": "python",
   "pygments_lexer": "ipython3",
   "version": "3.10.6 (main, Nov 14 2022, 16:10:14) [GCC 11.3.0]"
  },
  "orig_nbformat": 4,
  "vscode": {
   "interpreter": {
    "hash": "916dbcbb3f70747c44a77c7bcd40155683ae19c65e1c03b4aa3499c5328201f1"
   }
  }
 },
 "nbformat": 4,
 "nbformat_minor": 2
}
